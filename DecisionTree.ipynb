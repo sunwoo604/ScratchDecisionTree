{
 "cells": [
  {
   "cell_type": "code",
   "execution_count": 1,
   "id": "d176df06",
   "metadata": {},
   "outputs": [],
   "source": [
    "import pandas as pd\n",
    "import numpy as np\n",
    "import math\n",
    "import seaborn as sns\n",
    "import matplotlib.pyplot as plt"
   ]
  },
  {
   "cell_type": "code",
   "execution_count": 2,
   "id": "2533468f",
   "metadata": {},
   "outputs": [],
   "source": [
    "xtrain = pd.read_csv('X-train.csv',header =None)\n",
    "ytrain = pd.read_csv('Y-train.csv',header =None)"
   ]
  },
  {
   "cell_type": "code",
   "execution_count": 3,
   "id": "89169eb1",
   "metadata": {},
   "outputs": [
    {
     "data": {
      "text/html": [
       "<div>\n",
       "<style scoped>\n",
       "    .dataframe tbody tr th:only-of-type {\n",
       "        vertical-align: middle;\n",
       "    }\n",
       "\n",
       "    .dataframe tbody tr th {\n",
       "        vertical-align: top;\n",
       "    }\n",
       "\n",
       "    .dataframe thead th {\n",
       "        text-align: right;\n",
       "    }\n",
       "</style>\n",
       "<table border=\"1\" class=\"dataframe\">\n",
       "  <thead>\n",
       "    <tr style=\"text-align: right;\">\n",
       "      <th></th>\n",
       "      <th>0</th>\n",
       "      <th>1</th>\n",
       "      <th>2</th>\n",
       "      <th>3</th>\n",
       "      <th>4</th>\n",
       "      <th>5</th>\n",
       "      <th>6</th>\n",
       "      <th>7</th>\n",
       "      <th>8</th>\n",
       "      <th>9</th>\n",
       "      <th>10</th>\n",
       "      <th>11</th>\n",
       "      <th>12</th>\n",
       "      <th>13</th>\n",
       "      <th>14</th>\n",
       "      <th>15</th>\n",
       "      <th>16</th>\n",
       "      <th>17</th>\n",
       "      <th>18</th>\n",
       "      <th>class</th>\n",
       "    </tr>\n",
       "  </thead>\n",
       "  <tbody>\n",
       "    <tr>\n",
       "      <th>0</th>\n",
       "      <td>14.1</td>\n",
       "      <td>2.0</td>\n",
       "      <td>4.3</td>\n",
       "      <td>0.469</td>\n",
       "      <td>1.0</td>\n",
       "      <td>2.8</td>\n",
       "      <td>0.371</td>\n",
       "      <td>1.0</td>\n",
       "      <td>0.651</td>\n",
       "      <td>0.6</td>\n",
       "      <td>0.788</td>\n",
       "      <td>0.788</td>\n",
       "      <td>0.5</td>\n",
       "      <td>2.1</td>\n",
       "      <td>0.4</td>\n",
       "      <td>0.3</td>\n",
       "      <td>0.3</td>\n",
       "      <td>1.8</td>\n",
       "      <td>5.6</td>\n",
       "      <td>1</td>\n",
       "    </tr>\n",
       "    <tr>\n",
       "      <th>1</th>\n",
       "      <td>5.6</td>\n",
       "      <td>0.4</td>\n",
       "      <td>1.7</td>\n",
       "      <td>0.250</td>\n",
       "      <td>0.1</td>\n",
       "      <td>0.9</td>\n",
       "      <td>0.167</td>\n",
       "      <td>0.3</td>\n",
       "      <td>0.333</td>\n",
       "      <td>0.1</td>\n",
       "      <td>0.500</td>\n",
       "      <td>0.500</td>\n",
       "      <td>0.4</td>\n",
       "      <td>0.6</td>\n",
       "      <td>0.1</td>\n",
       "      <td>0.2</td>\n",
       "      <td>0.1</td>\n",
       "      <td>0.2</td>\n",
       "      <td>1.1</td>\n",
       "      <td>3</td>\n",
       "    </tr>\n",
       "    <tr>\n",
       "      <th>2</th>\n",
       "      <td>33.8</td>\n",
       "      <td>7.3</td>\n",
       "      <td>14.4</td>\n",
       "      <td>0.505</td>\n",
       "      <td>1.8</td>\n",
       "      <td>5.6</td>\n",
       "      <td>0.325</td>\n",
       "      <td>5.5</td>\n",
       "      <td>0.618</td>\n",
       "      <td>4.4</td>\n",
       "      <td>0.885</td>\n",
       "      <td>0.885</td>\n",
       "      <td>1.7</td>\n",
       "      <td>6.5</td>\n",
       "      <td>5.3</td>\n",
       "      <td>0.8</td>\n",
       "      <td>0.7</td>\n",
       "      <td>3.9</td>\n",
       "      <td>20.8</td>\n",
       "      <td>1</td>\n",
       "    </tr>\n",
       "    <tr>\n",
       "      <th>3</th>\n",
       "      <td>37.8</td>\n",
       "      <td>9.8</td>\n",
       "      <td>19.2</td>\n",
       "      <td>0.512</td>\n",
       "      <td>3.3</td>\n",
       "      <td>7.9</td>\n",
       "      <td>0.414</td>\n",
       "      <td>6.5</td>\n",
       "      <td>0.581</td>\n",
       "      <td>4.6</td>\n",
       "      <td>0.944</td>\n",
       "      <td>0.944</td>\n",
       "      <td>1.2</td>\n",
       "      <td>3.9</td>\n",
       "      <td>6.6</td>\n",
       "      <td>1.2</td>\n",
       "      <td>0.4</td>\n",
       "      <td>3.1</td>\n",
       "      <td>27.5</td>\n",
       "      <td>2</td>\n",
       "    </tr>\n",
       "    <tr>\n",
       "      <th>4</th>\n",
       "      <td>11.4</td>\n",
       "      <td>2.6</td>\n",
       "      <td>5.0</td>\n",
       "      <td>0.520</td>\n",
       "      <td>0.8</td>\n",
       "      <td>2.4</td>\n",
       "      <td>0.333</td>\n",
       "      <td>1.8</td>\n",
       "      <td>0.692</td>\n",
       "      <td>0.2</td>\n",
       "      <td>1.000</td>\n",
       "      <td>1.000</td>\n",
       "      <td>0.2</td>\n",
       "      <td>1.6</td>\n",
       "      <td>2.0</td>\n",
       "      <td>1.0</td>\n",
       "      <td>0.2</td>\n",
       "      <td>1.0</td>\n",
       "      <td>6.2</td>\n",
       "      <td>4</td>\n",
       "    </tr>\n",
       "  </tbody>\n",
       "</table>\n",
       "</div>"
      ],
      "text/plain": [
       "      0    1     2      3    4    5      6    7      8    9     10     11  \\\n",
       "0  14.1  2.0   4.3  0.469  1.0  2.8  0.371  1.0  0.651  0.6  0.788  0.788   \n",
       "1   5.6  0.4   1.7  0.250  0.1  0.9  0.167  0.3  0.333  0.1  0.500  0.500   \n",
       "2  33.8  7.3  14.4  0.505  1.8  5.6  0.325  5.5  0.618  4.4  0.885  0.885   \n",
       "3  37.8  9.8  19.2  0.512  3.3  7.9  0.414  6.5  0.581  4.6  0.944  0.944   \n",
       "4  11.4  2.6   5.0  0.520  0.8  2.4  0.333  1.8  0.692  0.2  1.000  1.000   \n",
       "\n",
       "    12   13   14   15   16   17    18  class  \n",
       "0  0.5  2.1  0.4  0.3  0.3  1.8   5.6      1  \n",
       "1  0.4  0.6  0.1  0.2  0.1  0.2   1.1      3  \n",
       "2  1.7  6.5  5.3  0.8  0.7  3.9  20.8      1  \n",
       "3  1.2  3.9  6.6  1.2  0.4  3.1  27.5      2  \n",
       "4  0.2  1.6  2.0  1.0  0.2  1.0   6.2      4  "
      ]
     },
     "execution_count": 3,
     "metadata": {},
     "output_type": "execute_result"
    }
   ],
   "source": [
    "whole = pd.concat([xtrain,ytrain],axis=1)\n",
    "whole.columns = list(xtrain.columns)+['class']\n",
    "whole.head()"
   ]
  },
  {
   "cell_type": "code",
   "execution_count": 5,
   "id": "83cf3bb5",
   "metadata": {},
   "outputs": [],
   "source": [
    "def gausdense(cat,x):\n",
    "    exp = np.dot(np.transpose(x-means[cat]),np.linalg.inv(cs[cat]))\n",
    "    exp = np.dot(exp,x-means[cat])\n",
    "    exp *= -0.5\n",
    "    print(exp)\n",
    "    top = (math.e)**exp\n",
    "    print(top)\n",
    "    bot = (np.linalg.det(cs[cat])**0.5)*((2*math.pi)**(len(xtrain.columns)/2))\n",
    "    print(bot)\n",
    "    return top/bot"
   ]
  },
  {
   "cell_type": "code",
   "execution_count": 39,
   "id": "7f764e60",
   "metadata": {},
   "outputs": [
    {
     "data": {
      "text/plain": [
       "<matplotlib.collections.PathCollection at 0x7f8e51835fa0>"
      ]
     },
     "execution_count": 39,
     "metadata": {},
     "output_type": "execute_result"
    },
    {
     "data": {
      "image/png": "[encoded data removed]",
      "text/plain": [
       "<Figure size 1440x864 with 1 Axes>"
      ]
     },
     "metadata": {
      "needs_background": "light"
     },
     "output_type": "display_data"
    }
   ],
   "source": [
    "plt.figure(figsize = (20,12))\n",
    "colors = {0:'red', 1:'green', 2:'blue', 3:'orange', 4:'purple'}\n",
    "tempx = xtrain#[xtrain[3]<=0.69]\n",
    "tempy = ytrain#[xtrain[3]<=0.69]\n",
    "\n",
    "#tempy = tempy[tempx[4]>2.5]\n",
    "#tempx = tempx[tempx[4]>2.5]\n",
    "\n",
    "plt.scatter(x=tempx[0],y=tempx[7],c=tempy[0].map(colors))"
   ]
  },
  {
   "cell_type": "code",
   "execution_count": null,
   "id": "d5264f4d",
   "metadata": {},
   "outputs": [],
   "source": [
    "#one decision factor per feature"
   ]
  },
  {
   "cell_type": "code",
   "execution_count": 200,
   "id": "0bf44c02",
   "metadata": {},
   "outputs": [],
   "source": [
    "class treemis:\n",
    "    def __init__(self,x,y,cat):\n",
    "        self.x = x\n",
    "        self.y = y\n",
    "        self.cat = cat\n",
    "        if self.y[0].nunique() > 1 and len(self.y[0])>1:\n",
    "            self.det = self.x[self.cat].min()\n",
    "            self.rans = sorted(self.x[cat].unique())[1:]\n",
    "            minuncs = np.inf\n",
    "            uncs = {}\n",
    "            self.samp = []\n",
    "            for i in self.rans:\n",
    "                temp = self.unc(self.x, self.y, i,self.y[0].unique())\n",
    "                self.samp.append(temp)\n",
    "                if minuncs>temp:\n",
    "                    minuncs = temp\n",
    "                uncs[temp] = i\n",
    "                if temp == 0:\n",
    "                    self.det=i\n",
    "                    break\n",
    "            if minuncs == np.inf:\n",
    "                self.left = None\n",
    "                self.right = None\n",
    "            elif self.cat<18:\n",
    "                self.det = uncs[minuncs]\n",
    "                self.left = tree(x[x[cat]<self.det],y[x[cat]<self.det],cat+1)\n",
    "                self.right = tree(x[x[cat]>=self.det],y[x[cat]>=self.det],cat+1)\n",
    "            else:\n",
    "                self.left = None\n",
    "                self.right = None\n",
    "        else:\n",
    "            self.left = None\n",
    "            self.right = None\n",
    "        \n",
    "            \n",
    "    def unc(self,x,y,det,pc):\n",
    "        if det == None:\n",
    "            if len(y)==0:\n",
    "                return 0\n",
    "            ps=[]\n",
    "            for i in pc:\n",
    "                ps.append((y[0]==i).mean())\n",
    "            return min(ps)\n",
    "        \n",
    "        left = y[x[self.cat] < det]\n",
    "        right =  y[x[self.cat] >= det]\n",
    "        \n",
    "        if len(left)==0 or len(right)==0:\n",
    "            return np.inf\n",
    "        return (x[self.cat] < det).mean()*self.unc(None,left,None,y[0].unique()) + \\\n",
    "    (x[self.cat] >= det).mean()*self.unc(None,right,None,y[0].unique())\n",
    "    \n",
    "    def pred(self, x):\n",
    "        if len(self.y[0].unique())==1:\n",
    "            return self.y[0].unique()[0]\n",
    "        if self.left == None and self.right == None:\n",
    "            cats = list(self.y[0].unique())\n",
    "            out = cats[0]\n",
    "            curr = 0\n",
    "            for i in cats:\n",
    "                temp = (self.y[0]==i).mean()\n",
    "                if temp>curr:\n",
    "                    curr = temp\n",
    "                    out = i\n",
    "            return out\n",
    "        else:\n",
    "            if x[self.cat]<self.det:\n",
    "                return self.left.pred(x)\n",
    "            else:\n",
    "                return self.right.pred(x)\n",
    "    def prediction(self, x):\n",
    "        newx = x.copy()\n",
    "        out = []\n",
    "        for i in range(len(x)):\n",
    "            out.append(self.pred(x.iloc[i]))\n",
    "        newx.insert(2,'out', out, True)\n",
    "        return newx['out']"
   ]
  },
  {
   "cell_type": "code",
   "execution_count": 201,
   "id": "c2c0cbe4",
   "metadata": {},
   "outputs": [],
   "source": [
    "class treegini:\n",
    "    def __init__(self,x,y,cat):\n",
    "        self.x = x\n",
    "        self.y = y\n",
    "        self.cat = cat\n",
    "        if self.y[0].nunique() > 1 and len(self.y[0])>1:\n",
    "            self.det = self.x[self.cat].min()\n",
    "            self.rans = sorted(self.x[cat].unique())[1:]\n",
    "            minuncs = np.inf\n",
    "            uncs = {}\n",
    "            self.samp = []\n",
    "            for i in self.rans:\n",
    "                temp = self.unc(self.x, self.y, i,self.y[0].unique())\n",
    "                self.samp.append(temp)\n",
    "                if minuncs>temp:\n",
    "                    minuncs = temp\n",
    "                uncs[temp] = i\n",
    "                if temp == 0:\n",
    "                    self.det=i\n",
    "                    break\n",
    "            if minuncs == np.inf:\n",
    "                self.left = None\n",
    "                self.right = None\n",
    "            elif self.cat<18:\n",
    "                self.det = uncs[minuncs]\n",
    "                self.left = tree(x[x[cat]<self.det],y[x[cat]<self.det],cat+1)\n",
    "                self.right = tree(x[x[cat]>=self.det],y[x[cat]>=self.det],cat+1)\n",
    "            else:\n",
    "                self.left = None\n",
    "                self.right = None\n",
    "        else:\n",
    "            self.left = None\n",
    "            self.right = None\n",
    "        \n",
    "            \n",
    "    def unc(self,x,y,det,pc):\n",
    "        if det == None:\n",
    "            if len(y)==0:\n",
    "                return 0\n",
    "            ps=[]\n",
    "            for i in pc:\n",
    "                ps.append((y[0]==i).mean()**2)\n",
    "            return 1-sum(ps)\n",
    "        \n",
    "        left = y[x[self.cat] < det]\n",
    "        right =  y[x[self.cat] >= det]\n",
    "        \n",
    "        if len(left)==0 or len(right)==0:\n",
    "            return np.inf\n",
    "        return (x[self.cat] < det).mean()*self.unc(None,left,None,y[0].unique()) + \\\n",
    "    (x[self.cat] >= det).mean()*self.unc(None,right,None,y[0].unique())\n",
    "    \n",
    "    def pred(self, x):\n",
    "        if len(self.y[0].unique())==1:\n",
    "            return self.y[0].unique()[0]\n",
    "        if self.left == None and self.right == None:\n",
    "            cats = list(self.y[0].unique())\n",
    "            out = cats[0]\n",
    "            curr = 0\n",
    "            for i in cats:\n",
    "                temp = (self.y[0]==i).mean()\n",
    "                if temp>curr:\n",
    "                    curr = temp\n",
    "                    out = i\n",
    "            return out\n",
    "        else:\n",
    "            if x[self.cat]<self.det:\n",
    "                return self.left.pred(x)\n",
    "            else:\n",
    "                return self.right.pred(x)\n",
    "    def prediction(self, x):\n",
    "        newx = x.copy()\n",
    "        out = []\n",
    "        for i in range(len(x)):\n",
    "            out.append(self.pred(x.iloc[i]))\n",
    "        newx.insert(2,'out', out, True)\n",
    "        return newx['out']"
   ]
  },
  {
   "cell_type": "code",
   "execution_count": 202,
   "id": "9064eeae",
   "metadata": {},
   "outputs": [],
   "source": [
    "#find the column with determine factor with the lowest uncertainty everytime"
   ]
  },
  {
   "cell_type": "code",
   "execution_count": 203,
   "id": "741a5481",
   "metadata": {},
   "outputs": [],
   "source": [
    "class tree2mis:\n",
    "    def __init__(self,x,y):\n",
    "        self.x = x\n",
    "        self.y = y\n",
    "        currunc = self.unc(None,self.y,None,self.y[0].unique(),None)\n",
    "        if self.y[0].nunique() > 1 and len(self.y[0])>1 and currunc>0:\n",
    "            self.det = -1*np.inf\n",
    "            self.cat = 0\n",
    "            minuncs = np.inf\n",
    "            for cat in self.x.columns:\n",
    "                self.rans = sorted(self.x[cat].unique())[1:]\n",
    "                uncs = {}\n",
    "                for i in self.rans:\n",
    "                    temp = self.unc(self.x, self.y, i, self.y[0].unique(),cat)\n",
    "                    if minuncs>temp:\n",
    "                        minuncs = temp\n",
    "                        self.det = i\n",
    "                        self.cat = cat\n",
    "                    if temp == 0:\n",
    "                        self.det=i\n",
    "                        self.cat = cat\n",
    "                        minuncs = 0\n",
    "                        break\n",
    "                if minuncs == 0:\n",
    "                    break\n",
    "            if minuncs == np.inf:\n",
    "                self.left = None\n",
    "                self.right = None\n",
    "            elif self.det != -1*np.inf:\n",
    "                self.left = tree2(x[x[self.cat]<self.det],y[x[self.cat]<self.det])\n",
    "                self.right = tree2(x[x[self.cat]>=self.det],y[x[self.cat]>=self.det])\n",
    "            else:\n",
    "                self.left = None\n",
    "                self.right = None\n",
    "        else:\n",
    "            self.left = None\n",
    "            self.right = None\n",
    "        \n",
    "            \n",
    "    def unc(self,x,y,det,pc,cat):\n",
    "        if det == None:\n",
    "            if len(y)==0:\n",
    "                return 0\n",
    "            ps=[]\n",
    "            for i in pc:\n",
    "                ps.append((y[0]==i).mean())\n",
    "            return min(ps)\n",
    "        \n",
    "        left = y[x[cat] < det]\n",
    "        right =  y[x[cat] >= det]\n",
    "        \n",
    "        if len(left)==0 or len(right)==0:\n",
    "            return np.inf\n",
    "        return (x[cat] < det).mean()*self.unc(None,left,None,y[0].unique(),cat) + \\\n",
    "    (x[cat] >= det).mean()*self.unc(None,right,None,y[0].unique(),cat)\n",
    "    \n",
    "    def pred(self, x):\n",
    "        if len(self.y[0].unique())==1:\n",
    "            return self.y[0].unique()[0]\n",
    "        if self.left == None and self.right == None:\n",
    "            cats = list(self.y[0].unique())\n",
    "            out = cats[0]\n",
    "            curr = 0\n",
    "            for i in cats:\n",
    "                temp = (self.y[0]==i).mean()\n",
    "                if temp>curr:\n",
    "                    curr = temp\n",
    "                    out = i\n",
    "            return out\n",
    "        else:\n",
    "            if x[self.cat]<self.det:\n",
    "                return self.left.pred(x)\n",
    "            else:\n",
    "                return self.right.pred(x)\n",
    "    def prediction(self, x):\n",
    "        newx = x.copy()\n",
    "        out = []\n",
    "        for i in range(len(x)):\n",
    "            out.append(self.pred(x.iloc[i]))\n",
    "        newx.insert(2,'out', out, True)\n",
    "        return newx['out']"
   ]
  },
  {
   "cell_type": "code",
   "execution_count": 204,
   "id": "20ac43e6",
   "metadata": {},
   "outputs": [],
   "source": [
    "class tree2gini:\n",
    "    def __init__(self,x,y):\n",
    "        self.x = x\n",
    "        self.y = y\n",
    "        currunc = self.unc(None,self.y,None,self.y[0].unique(),None)\n",
    "        if self.y[0].nunique() > 1 and len(self.y[0])>1 and currunc>0:\n",
    "            self.det = -1*np.inf\n",
    "            self.cat = 0\n",
    "            minuncs = np.inf\n",
    "            for cat in self.x.columns:\n",
    "                self.rans = sorted(self.x[cat].unique())[1:]\n",
    "                uncs = {}\n",
    "                for i in self.rans:\n",
    "                    temp = self.unc(self.x, self.y, i, self.y[0].unique(),cat)\n",
    "                    if minuncs>temp:\n",
    "                        minuncs = temp\n",
    "                        self.det = i\n",
    "                        self.cat = cat\n",
    "                    if temp == 0:\n",
    "                        self.det=i\n",
    "                        self.cat = cat\n",
    "                        minuncs = 0\n",
    "                        break\n",
    "                if minuncs == 0:\n",
    "                    break\n",
    "            if minuncs == np.inf:\n",
    "                self.left = None\n",
    "                self.right = None\n",
    "            elif self.det != -1*np.inf:\n",
    "                self.left = tree2(x[x[self.cat]<self.det],y[x[self.cat]<self.det])\n",
    "                self.right = tree2(x[x[self.cat]>=self.det],y[x[self.cat]>=self.det])\n",
    "            else:\n",
    "                self.left = None\n",
    "                self.right = None\n",
    "        else:\n",
    "            self.left = None\n",
    "            self.right = None\n",
    "        \n",
    "            \n",
    "    def unc(self,x,y,det,pc,cat):\n",
    "        if det == None:\n",
    "            if len(y)==0:\n",
    "                return 0\n",
    "            ps=[]\n",
    "            for i in pc:\n",
    "                ps.append((y[0]==i).mean()**2)\n",
    "            return 1-sum(ps)\n",
    "        \n",
    "        left = y[x[cat] < det]\n",
    "        right =  y[x[cat] >= det]\n",
    "        \n",
    "        if len(left)==0 or len(right)==0:\n",
    "            return np.inf\n",
    "        return (x[cat] < det).mean()*self.unc(None,left,None,y[0].unique(),cat) + \\\n",
    "    (x[cat] >= det).mean()*self.unc(None,right,None,y[0].unique(),cat)\n",
    "    \n",
    "    def pred(self, x):\n",
    "        if len(self.y[0].unique())==1:\n",
    "            return self.y[0].unique()[0]\n",
    "        if self.left == None and self.right == None:\n",
    "            cats = list(self.y[0].unique())\n",
    "            out = cats[0]\n",
    "            curr = 0\n",
    "            for i in cats:\n",
    "                temp = (self.y[0]==i).mean()\n",
    "                if temp>curr:\n",
    "                    curr = temp\n",
    "                    out = i\n",
    "            return out\n",
    "        else:\n",
    "            if x[self.cat]<self.det:\n",
    "                return self.left.pred(x)\n",
    "            else:\n",
    "                return self.right.pred(x)\n",
    "    def prediction(self, x):\n",
    "        newx = x.copy()\n",
    "        out = []\n",
    "        for i in range(len(x)):\n",
    "            out.append(self.pred(x.iloc[i]))\n",
    "        newx.insert(2,'out', out, True)\n",
    "        return newx['out']"
   ]
  },
  {
   "cell_type": "code",
   "execution_count": 167,
   "id": "1c6b2544",
   "metadata": {
    "scrolled": false
   },
   "outputs": [],
   "source": [
    "mod = tree2(xtrain,ytrain)"
   ]
  },
  {
   "cell_type": "code",
   "execution_count": 160,
   "id": "55761176",
   "metadata": {},
   "outputs": [],
   "source": [
    "trainx = xtrain.iloc[:-100]\n",
    "trainy = ytrain.iloc[:-100]\n",
    "validx = xtrain.iloc[-100:]\n",
    "validy = ytrain.iloc[-100:]"
   ]
  },
  {
   "cell_type": "code",
   "execution_count": 186,
   "id": "80d47864",
   "metadata": {},
   "outputs": [],
   "source": [
    "mod = tree2(trainx,trainy)"
   ]
  },
  {
   "cell_type": "code",
   "execution_count": 188,
   "id": "c4855206",
   "metadata": {
    "scrolled": true
   },
   "outputs": [
    {
     "data": {
      "text/plain": [
       "327    4\n",
       "328    4\n",
       "329    3\n",
       "330    1\n",
       "331    3\n",
       "      ..\n",
       "422    4\n",
       "423    1\n",
       "424    2\n",
       "425    3\n",
       "426    2\n",
       "Name: out, Length: 100, dtype: int64"
      ]
     },
     "execution_count": 188,
     "metadata": {},
     "output_type": "execute_result"
    }
   ],
   "source": [
    "pred = mod.prediction(validx)\n",
    "pred"
   ]
  },
  {
   "cell_type": "code",
   "execution_count": 189,
   "id": "65821804",
   "metadata": {
    "scrolled": true
   },
   "outputs": [
    {
     "data": {
      "text/plain": [
       "0.39"
      ]
     },
     "execution_count": 189,
     "metadata": {},
     "output_type": "execute_result"
    }
   ],
   "source": [
    "(pred == validy[0]).mean()"
   ]
  },
  {
   "cell_type": "code",
   "execution_count": 132,
   "id": "2e098b90",
   "metadata": {},
   "outputs": [],
   "source": [
    "from sklearn.model_selection import KFold"
   ]
  },
  {
   "cell_type": "code",
   "execution_count": 206,
   "id": "85d047dd",
   "metadata": {},
   "outputs": [],
   "source": [
    "kf = KFold(n_splits=10)"
   ]
  },
  {
   "cell_type": "code",
   "execution_count": 207,
   "id": "191dbdfb",
   "metadata": {},
   "outputs": [],
   "source": [
    "#missclassificaiton"
   ]
  },
  {
   "cell_type": "code",
   "execution_count": 208,
   "id": "7cfa1611",
   "metadata": {},
   "outputs": [
    {
     "name": "stdout",
     "output_type": "stream",
     "text": [
      "0.3488372093023256\n",
      "0.27906976744186046\n",
      "0.3953488372093023\n",
      "0.37209302325581395\n",
      "0.27906976744186046\n",
      "0.2558139534883721\n",
      "0.3488372093023256\n",
      "0.3333333333333333\n",
      "0.23809523809523808\n",
      "0.35714285714285715\n"
     ]
    },
    {
     "data": {
      "text/plain": [
       "0.32076411960132895"
      ]
     },
     "execution_count": 208,
     "metadata": {},
     "output_type": "execute_result"
    }
   ],
   "source": [
    "accs=[]\n",
    "for i, (train_index, test_index) in enumerate(kf.split(xtrain)):\n",
    "    mod = treemis(xtrain.iloc[train_index],ytrain.iloc[train_index], 0)\n",
    "    prediction = mod.prediction(xtrain.iloc[test_index])\n",
    "    accs.append((prediction == ytrain.iloc[test_index][0]).mean())\n",
    "    print((prediction == ytrain.iloc[test_index][0]).mean())\n",
    "np.mean(accs)"
   ]
  },
  {
   "cell_type": "code",
   "execution_count": 209,
   "id": "89197943",
   "metadata": {},
   "outputs": [],
   "source": [
    "#gini index"
   ]
  },
  {
   "cell_type": "code",
   "execution_count": 210,
   "id": "8f4ad4f1",
   "metadata": {},
   "outputs": [
    {
     "name": "stdout",
     "output_type": "stream",
     "text": [
      "0.2558139534883721\n",
      "0.27906976744186046\n",
      "0.2558139534883721\n",
      "0.46511627906976744\n",
      "0.37209302325581395\n",
      "0.5116279069767442\n",
      "0.3023255813953488\n",
      "0.2857142857142857\n",
      "0.3333333333333333\n",
      "0.2857142857142857\n"
     ]
    },
    {
     "data": {
      "text/plain": [
       "0.3346622369878184"
      ]
     },
     "execution_count": 210,
     "metadata": {},
     "output_type": "execute_result"
    }
   ],
   "source": [
    "accs=[]\n",
    "for i, (train_index, test_index) in enumerate(kf.split(xtrain)):\n",
    "    mod = treegini(xtrain.iloc[train_index],ytrain.iloc[train_index], 0)\n",
    "    prediction = mod.prediction(xtrain.iloc[test_index])\n",
    "    accs.append((prediction == ytrain.iloc[test_index][0]).mean())\n",
    "    print((prediction == ytrain.iloc[test_index][0]).mean())\n",
    "np.mean(accs)"
   ]
  },
  {
   "cell_type": "code",
   "execution_count": 211,
   "id": "00b23170",
   "metadata": {},
   "outputs": [],
   "source": [
    "# misclassificaiton"
   ]
  },
  {
   "cell_type": "code",
   "execution_count": 212,
   "id": "8541233c",
   "metadata": {},
   "outputs": [
    {
     "name": "stdout",
     "output_type": "stream",
     "text": [
      "0.4186046511627907\n",
      "0.27906976744186046\n",
      "0.37209302325581395\n",
      "0.627906976744186\n",
      "0.4186046511627907\n",
      "0.4883720930232558\n",
      "0.4186046511627907\n",
      "0.38095238095238093\n",
      "0.5238095238095238\n",
      "0.4523809523809524\n"
     ]
    },
    {
     "data": {
      "text/plain": [
       "0.4380398671096345"
      ]
     },
     "execution_count": 212,
     "metadata": {},
     "output_type": "execute_result"
    }
   ],
   "source": [
    "accs=[]\n",
    "for i, (train_index, test_index) in enumerate(kf.split(xtrain)):\n",
    "    mod = tree2mis(xtrain.iloc[train_index],ytrain.iloc[train_index])\n",
    "    prediction = mod.prediction(xtrain.iloc[test_index])\n",
    "    accs.append((prediction == ytrain.iloc[test_index][0]).mean())\n",
    "    print((prediction == ytrain.iloc[test_index][0]).mean())\n",
    "np.mean(accs)"
   ]
  },
  {
   "cell_type": "code",
   "execution_count": null,
   "id": "7e6d7241",
   "metadata": {},
   "outputs": [],
   "source": [
    "## gini index"
   ]
  },
  {
   "cell_type": "code",
   "execution_count": 213,
   "id": "6a9e94ca",
   "metadata": {},
   "outputs": [
    {
     "name": "stdout",
     "output_type": "stream",
     "text": [
      "0.37209302325581395\n",
      "0.3023255813953488\n",
      "0.37209302325581395\n",
      "0.5116279069767442\n",
      "0.4418604651162791\n",
      "0.3488372093023256\n",
      "0.37209302325581395\n",
      "0.38095238095238093\n",
      "0.5238095238095238\n",
      "0.4523809523809524\n"
     ]
    },
    {
     "data": {
      "text/plain": [
       "0.40780730897009965"
      ]
     },
     "execution_count": 213,
     "metadata": {},
     "output_type": "execute_result"
    }
   ],
   "source": [
    "accs=[]\n",
    "for i, (train_index, test_index) in enumerate(kf.split(xtrain)):\n",
    "    mod = tree2gini(xtrain.iloc[train_index],ytrain.iloc[train_index])\n",
    "    prediction = mod.prediction(xtrain.iloc[test_index])\n",
    "    accs.append((prediction == ytrain.iloc[test_index][0]).mean())\n",
    "    print((prediction == ytrain.iloc[test_index][0]).mean())\n",
    "np.mean(accs)"
   ]
  },
  {
   "cell_type": "code",
   "execution_count": 130,
   "id": "c42bf4cf",
   "metadata": {},
   "outputs": [],
   "source": [
    "xtest = pd.read_csv('X-test.csv',header =None)"
   ]
  },
  {
   "cell_type": "code",
   "execution_count": 214,
   "id": "3ca7d529",
   "metadata": {},
   "outputs": [],
   "source": [
    "actmod = tree2mis(xtrain,ytrain)"
   ]
  },
  {
   "cell_type": "code",
   "execution_count": 215,
   "id": "330b4c8c",
   "metadata": {},
   "outputs": [],
   "source": [
    "ytest = actmod.prediction(xtest)"
   ]
  },
  {
   "cell_type": "code",
   "execution_count": 217,
   "id": "6f3390d8",
   "metadata": {},
   "outputs": [],
   "source": [
    "f = open(\"predictions.csv\", \"a\")\n",
    "for i in ytest:\n",
    "    f.write(str(i)+'\\n')\n",
    "f.close()"
   ]
  },
  {
   "cell_type": "code",
   "execution_count": null,
   "id": "ea5f5277",
   "metadata": {},
   "outputs": [],
   "source": [
    "#2"
   ]
  },
  {
   "cell_type": "code",
   "execution_count": 219,
   "id": "775d85b3",
   "metadata": {},
   "outputs": [],
   "source": [
    "temp = [65,72,79,55,62,71,73]\n",
    "pressure = [1001,1003,1030,1022,1025,1010,1011]\n",
    "rain = [1,1,0,1,0,1,0]"
   ]
  },
  {
   "cell_type": "code",
   "execution_count": 220,
   "id": "9317943b",
   "metadata": {},
   "outputs": [],
   "source": [
    "raindf = pd.DataFrame({'temp':temp,'pres':pressure,'rain':rain})"
   ]
  },
  {
   "cell_type": "code",
   "execution_count": 221,
   "id": "e24e699d",
   "metadata": {},
   "outputs": [],
   "source": [
    "import matplotlib.pyplot as plt"
   ]
  },
  {
   "cell_type": "code",
   "execution_count": 222,
   "id": "2f4e2ba7",
   "metadata": {
    "scrolled": true
   },
   "outputs": [
    {
     "data": {
      "text/plain": [
       "<matplotlib.collections.PathCollection at 0x7fe2c8a119d0>"
      ]
     },
     "execution_count": 222,
     "metadata": {},
     "output_type": "execute_result"
    },
    {
     "data": {
      "image/png": "[encoded data removed]",
      "text/plain": [
       "<Figure size 432x288 with 1 Axes>"
      ]
     },
     "metadata": {
      "needs_background": "light"
     },
     "output_type": "display_data"
    }
   ],
   "source": [
    "plt.scatter(raindf['temp'], raindf['pres'], c=raindf['rain'])"
   ]
  },
  {
   "cell_type": "code",
   "execution_count": 232,
   "id": "1b3dc1e1",
   "metadata": {},
   "outputs": [],
   "source": [
    "# is rain < 73"
   ]
  },
  {
   "cell_type": "code",
   "execution_count": 233,
   "id": "be4e7242",
   "metadata": {},
   "outputs": [],
   "source": [
    "#yes node of first question node"
   ]
  },
  {
   "cell_type": "code",
   "execution_count": 245,
   "id": "2a8d8acc",
   "metadata": {},
   "outputs": [
    {
     "data": {
      "text/html": [
       "<div>\n",
       "<style scoped>\n",
       "    .dataframe tbody tr th:only-of-type {\n",
       "        vertical-align: middle;\n",
       "    }\n",
       "\n",
       "    .dataframe tbody tr th {\n",
       "        vertical-align: top;\n",
       "    }\n",
       "\n",
       "    .dataframe thead th {\n",
       "        text-align: right;\n",
       "    }\n",
       "</style>\n",
       "<table border=\"1\" class=\"dataframe\">\n",
       "  <thead>\n",
       "    <tr style=\"text-align: right;\">\n",
       "      <th></th>\n",
       "      <th>temp</th>\n",
       "      <th>pres</th>\n",
       "      <th>rain</th>\n",
       "    </tr>\n",
       "  </thead>\n",
       "  <tbody>\n",
       "    <tr>\n",
       "      <th>0</th>\n",
       "      <td>65</td>\n",
       "      <td>1001</td>\n",
       "      <td>1</td>\n",
       "    </tr>\n",
       "    <tr>\n",
       "      <th>1</th>\n",
       "      <td>72</td>\n",
       "      <td>1003</td>\n",
       "      <td>1</td>\n",
       "    </tr>\n",
       "    <tr>\n",
       "      <th>3</th>\n",
       "      <td>55</td>\n",
       "      <td>1022</td>\n",
       "      <td>1</td>\n",
       "    </tr>\n",
       "    <tr>\n",
       "      <th>4</th>\n",
       "      <td>62</td>\n",
       "      <td>1025</td>\n",
       "      <td>0</td>\n",
       "    </tr>\n",
       "    <tr>\n",
       "      <th>5</th>\n",
       "      <td>71</td>\n",
       "      <td>1010</td>\n",
       "      <td>1</td>\n",
       "    </tr>\n",
       "  </tbody>\n",
       "</table>\n",
       "</div>"
      ],
      "text/plain": [
       "   temp  pres  rain\n",
       "0    65  1001     1\n",
       "1    72  1003     1\n",
       "3    55  1022     1\n",
       "4    62  1025     0\n",
       "5    71  1010     1"
      ]
     },
     "execution_count": 245,
     "metadata": {},
     "output_type": "execute_result"
    }
   ],
   "source": [
    "yesnode = raindf[raindf['temp']<73]\n",
    "yesnode"
   ]
  },
  {
   "cell_type": "code",
   "execution_count": 246,
   "id": "cb67e96c",
   "metadata": {},
   "outputs": [],
   "source": [
    "#no node of first question node"
   ]
  },
  {
   "cell_type": "code",
   "execution_count": 247,
   "id": "c11b15d0",
   "metadata": {},
   "outputs": [
    {
     "data": {
      "text/html": [
       "<div>\n",
       "<style scoped>\n",
       "    .dataframe tbody tr th:only-of-type {\n",
       "        vertical-align: middle;\n",
       "    }\n",
       "\n",
       "    .dataframe tbody tr th {\n",
       "        vertical-align: top;\n",
       "    }\n",
       "\n",
       "    .dataframe thead th {\n",
       "        text-align: right;\n",
       "    }\n",
       "</style>\n",
       "<table border=\"1\" class=\"dataframe\">\n",
       "  <thead>\n",
       "    <tr style=\"text-align: right;\">\n",
       "      <th></th>\n",
       "      <th>temp</th>\n",
       "      <th>pres</th>\n",
       "      <th>rain</th>\n",
       "    </tr>\n",
       "  </thead>\n",
       "  <tbody>\n",
       "    <tr>\n",
       "      <th>2</th>\n",
       "      <td>79</td>\n",
       "      <td>1030</td>\n",
       "      <td>0</td>\n",
       "    </tr>\n",
       "    <tr>\n",
       "      <th>6</th>\n",
       "      <td>73</td>\n",
       "      <td>1011</td>\n",
       "      <td>0</td>\n",
       "    </tr>\n",
       "  </tbody>\n",
       "</table>\n",
       "</div>"
      ],
      "text/plain": [
       "   temp  pres  rain\n",
       "2    79  1030     0\n",
       "6    73  1011     0"
      ]
     },
     "execution_count": 247,
     "metadata": {},
     "output_type": "execute_result"
    }
   ],
   "source": [
    "raindf[raindf['temp']>=73]"
   ]
  },
  {
   "cell_type": "code",
   "execution_count": 248,
   "id": "3f28fa2d",
   "metadata": {},
   "outputs": [],
   "source": [
    "# following question node to first yes node\n",
    "# is pressure <1023"
   ]
  },
  {
   "cell_type": "code",
   "execution_count": 249,
   "id": "cc7e769b",
   "metadata": {},
   "outputs": [],
   "source": [
    "#yes node of previous question node"
   ]
  },
  {
   "cell_type": "code",
   "execution_count": 250,
   "id": "7e853f92",
   "metadata": {},
   "outputs": [
    {
     "data": {
      "text/html": [
       "<div>\n",
       "<style scoped>\n",
       "    .dataframe tbody tr th:only-of-type {\n",
       "        vertical-align: middle;\n",
       "    }\n",
       "\n",
       "    .dataframe tbody tr th {\n",
       "        vertical-align: top;\n",
       "    }\n",
       "\n",
       "    .dataframe thead th {\n",
       "        text-align: right;\n",
       "    }\n",
       "</style>\n",
       "<table border=\"1\" class=\"dataframe\">\n",
       "  <thead>\n",
       "    <tr style=\"text-align: right;\">\n",
       "      <th></th>\n",
       "      <th>temp</th>\n",
       "      <th>pres</th>\n",
       "      <th>rain</th>\n",
       "    </tr>\n",
       "  </thead>\n",
       "  <tbody>\n",
       "    <tr>\n",
       "      <th>0</th>\n",
       "      <td>65</td>\n",
       "      <td>1001</td>\n",
       "      <td>1</td>\n",
       "    </tr>\n",
       "    <tr>\n",
       "      <th>1</th>\n",
       "      <td>72</td>\n",
       "      <td>1003</td>\n",
       "      <td>1</td>\n",
       "    </tr>\n",
       "    <tr>\n",
       "      <th>3</th>\n",
       "      <td>55</td>\n",
       "      <td>1022</td>\n",
       "      <td>1</td>\n",
       "    </tr>\n",
       "    <tr>\n",
       "      <th>5</th>\n",
       "      <td>71</td>\n",
       "      <td>1010</td>\n",
       "      <td>1</td>\n",
       "    </tr>\n",
       "  </tbody>\n",
       "</table>\n",
       "</div>"
      ],
      "text/plain": [
       "   temp  pres  rain\n",
       "0    65  1001     1\n",
       "1    72  1003     1\n",
       "3    55  1022     1\n",
       "5    71  1010     1"
      ]
     },
     "execution_count": 250,
     "metadata": {},
     "output_type": "execute_result"
    }
   ],
   "source": [
    "yesnode[yesnode['pres']<1023]"
   ]
  },
  {
   "cell_type": "code",
   "execution_count": null,
   "id": "5773e850",
   "metadata": {},
   "outputs": [],
   "source": [
    "# no node of previous quesion node"
   ]
  },
  {
   "cell_type": "code",
   "execution_count": 251,
   "id": "f910b5e4",
   "metadata": {},
   "outputs": [
    {
     "data": {
      "text/html": [
       "<div>\n",
       "<style scoped>\n",
       "    .dataframe tbody tr th:only-of-type {\n",
       "        vertical-align: middle;\n",
       "    }\n",
       "\n",
       "    .dataframe tbody tr th {\n",
       "        vertical-align: top;\n",
       "    }\n",
       "\n",
       "    .dataframe thead th {\n",
       "        text-align: right;\n",
       "    }\n",
       "</style>\n",
       "<table border=\"1\" class=\"dataframe\">\n",
       "  <thead>\n",
       "    <tr style=\"text-align: right;\">\n",
       "      <th></th>\n",
       "      <th>temp</th>\n",
       "      <th>pres</th>\n",
       "      <th>rain</th>\n",
       "    </tr>\n",
       "  </thead>\n",
       "  <tbody>\n",
       "    <tr>\n",
       "      <th>4</th>\n",
       "      <td>62</td>\n",
       "      <td>1025</td>\n",
       "      <td>0</td>\n",
       "    </tr>\n",
       "  </tbody>\n",
       "</table>\n",
       "</div>"
      ],
      "text/plain": [
       "   temp  pres  rain\n",
       "4    62  1025     0"
      ]
     },
     "execution_count": 251,
     "metadata": {},
     "output_type": "execute_result"
    }
   ],
   "source": [
    "yesnode[yesnode['pres']>=1023]"
   ]
  },
  {
   "cell_type": "code",
   "execution_count": null,
   "id": "942f24b8",
   "metadata": {},
   "outputs": [],
   "source": []
  }
 ],
 "metadata": {
  "kernelspec": {
   "display_name": "Python 3 (ipykernel)",
   "language": "python",
   "name": "python3"
  },
  "language_info": {
   "codemirror_mode": {
    "name": "ipython",
    "version": 3
   },
   "file_extension": ".py",
   "mimetype": "text/x-python",
   "name": "python",
   "nbconvert_exporter": "python",
   "pygments_lexer": "ipython3",
   "version": "3.9.7"
  }
 },
 "nbformat": 4,
 "nbformat_minor": 5
}
